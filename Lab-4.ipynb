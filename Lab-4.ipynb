{
  "cells": [
    {
      "cell_type": "code",
      "execution_count": 1,
      "metadata": {
        "id": "9yUflX-3It30"
      },
      "outputs": [],
      "source": [
        "import tensorflow as tf\n",
        "from tensorflow.keras.datasets import mnist\n",
        "import numpy as np\n",
        "\n",
        "(x_train, _), (x_test, _) = mnist.load_data()\n",
        "\n",
        "x_train = x_train.astype('float32') / 255.\n",
        "x_test = x_test.astype('float32') / 255.\n",
        "\n",
        "x_train = np.expand_dims(x_train, axis=-1)\n",
        "x_test = np.expand_dims(x_test, axis=-1)\n"
      ]
    },
    {
      "cell_type": "code",
      "execution_count": 2,
      "metadata": {
        "id": "Eij0KWUMpjdj"
      },
      "outputs": [],
      "source": [
        "def add_gaussian_noise(images, mean=0.0, stddev=0.5):\n",
        "    noise = np.random.normal(mean, stddev, images.shape)\n",
        "    noisy_images = images + noise\n",
        "    return np.clip(noisy_images, 0., 1.)\n",
        "\n",
        "def add_salt_and_pepper_noise(images, salt_prob=0.1, pepper_prob=0.1):\n",
        "    noisy_images = np.copy(images)\n",
        "    salt = np.random.choice([0, 1], size=images.shape, p=[1 - salt_prob, salt_prob])\n",
        "    pepper = np.random.choice([0, 1], size=images.shape, p=[1 - pepper_prob, pepper_prob])\n",
        "    noisy_images[salt == 1] = 1.0\n",
        "    noisy_images[pepper == 1] = 0.0\n",
        "    return noisy_images\n",
        "\n",
        "def add_patchwise_noise(images, num_patches=10, patch_size=(5, 5)):\n",
        "    noisy_images = np.copy(images)\n",
        "    for img in noisy_images:\n",
        "        for _ in range(num_patches):\n",
        "            x = np.random.randint(0, img.shape[0] - patch_size[0])\n",
        "            y = np.random.randint(0, img.shape[1] - patch_size[1])\n",
        "            img[x:x+patch_size[0], y:y+patch_size[1], :] = np.random.choice([0, 1])\n",
        "    return noisy_images"
      ]
    },
    {
      "cell_type": "code",
      "source": [
        "gaussian_noisy_train = add_gaussian_noise(x_train)\n",
        "gaussian_noisy_test = add_gaussian_noise(x_test)"
      ],
      "metadata": {
        "id": "QQGQCzo_7oBi"
      },
      "execution_count": 3,
      "outputs": []
    },
    {
      "cell_type": "code",
      "source": [
        "salt_and_pepper_noisy_train = add_salt_and_pepper_noise(x_train)\n",
        "salt_and_pepper_noisy_test = add_salt_and_pepper_noise(x_test)"
      ],
      "metadata": {
        "id": "EFp0eLSw7pPz"
      },
      "execution_count": 4,
      "outputs": []
    },
    {
      "cell_type": "code",
      "source": [
        "patchwise_noisy_train = add_patchwise_noise(x_train)\n",
        "patchwise_noisy_test = add_patchwise_noise(x_test)"
      ],
      "metadata": {
        "id": "g7IDO1uC7pFy"
      },
      "execution_count": 5,
      "outputs": []
    },
    {
      "cell_type": "code",
      "execution_count": 6,
      "metadata": {
        "id": "N0y32-r_qi0A"
      },
      "outputs": [],
      "source": [
        "from tensorflow.keras import layers, models\n",
        "\n",
        "def build_encoder():\n",
        "    encoder = models.Sequential()\n",
        "    encoder.add(layers.Input(shape=(28, 28, 1)))\n",
        "    encoder.add(layers.Conv2D(32, (3, 3), activation='relu', padding='same'))\n",
        "    encoder.add(layers.MaxPooling2D((2, 2), padding='same'))\n",
        "    encoder.add(layers.Conv2D(64, (3, 3), activation='relu', padding='same'))\n",
        "    encoder.add(layers.MaxPooling2D((2, 2), padding='same'))\n",
        "    encoder.add(layers.Conv2D(64, (3, 3), activation='relu', padding='same'))\n",
        "    return encoder\n",
        "\n",
        "def build_decoder():\n",
        "    decoder = models.Sequential()\n",
        "    decoder.add(layers.Conv2D(64, (3, 3), activation='relu', padding='same'))\n",
        "    decoder.add(layers.UpSampling2D((2, 2)))\n",
        "    decoder.add(layers.Conv2D(64, (3, 3), activation='relu', padding='same'))\n",
        "    decoder.add(layers.UpSampling2D((2, 2)))\n",
        "    decoder.add(layers.Conv2D(32, (3, 3), activation='relu', padding='same'))\n",
        "    decoder.add(layers.Conv2D(1, (3, 3), activation='sigmoid', padding='same'))\n",
        "    return decoder\n",
        "\n",
        "encoder = build_encoder()\n",
        "decoder = build_decoder()\n",
        "autoencoder = models.Sequential([encoder, decoder])\n",
        "\n",
        "autoencoder.compile(optimizer='adam', loss='binary_crossentropy')\n"
      ]
    },
    {
      "cell_type": "code",
      "execution_count": null,
      "metadata": {
        "colab": {
          "base_uri": "https://localhost:8080/"
        },
        "id": "qaosR3rhqlav",
        "outputId": "11e71b3e-2e4a-484d-c411-b9da72af6aea"
      },
      "outputs": [
        {
          "output_type": "stream",
          "name": "stdout",
          "text": [
            "Epoch 1/10\n",
            "\u001b[1m228/469\u001b[0m \u001b[32m━━━━━━━━━\u001b[0m\u001b[37m━━━━━━━━━━━\u001b[0m \u001b[1m3:36\u001b[0m 899ms/step - loss: 0.2719"
          ]
        }
      ],
      "source": [
        "autoencoder.fit(gaussian_noisy_train, x_train, epochs=10, batch_size=128, validation_data=(gaussian_noisy_test, x_test))"
      ]
    },
    {
      "cell_type": "code",
      "execution_count": null,
      "metadata": {
        "id": "vEQuYujmqm6u"
      },
      "outputs": [],
      "source": [
        "import matplotlib.pyplot as plt\n",
        "\n",
        "# Visualize some results\n",
        "def display_images(noisy, denoised, original, num_images=10):\n",
        "    plt.figure(figsize=(20, 4))\n",
        "    for i in range(num_images):\n",
        "        # Display noisy images\n",
        "        ax = plt.subplot(3, num_images, i + 1)\n",
        "        plt.imshow(noisy[i].reshape(28, 28), cmap='gray')\n",
        "        plt.axis('off')\n",
        "\n",
        "        # Display denoised images\n",
        "        ax = plt.subplot(3, num_images, i + num_images + 1)\n",
        "        plt.imshow(denoised[i].reshape(28, 28), cmap='gray')\n",
        "        plt.axis('off')\n",
        "\n",
        "        # Display original images\n",
        "        ax = plt.subplot(3, num_images, i + 2*num_images + 1)\n",
        "        plt.imshow(original[i].reshape(28, 28), cmap='gray')\n",
        "        plt.axis('off')\n",
        "    plt.show()\n",
        "\n",
        "# Get denoised images\n",
        "denoised_images = autoencoder.predict(gaussian_noisy_test)\n",
        "\n",
        "# Display comparison\n",
        "display_images(gaussian_noisy_test, denoised_images, x_test)"
      ]
    },
    {
      "cell_type": "code",
      "source": [
        "autoencoder.fit(salt_and_pepper_noisy_train, x_train, epochs=10, batch_size=128, validation_data=(salt_and_pepper_noisy_test, x_test))"
      ],
      "metadata": {
        "id": "tm6x0mgC8AKk"
      },
      "execution_count": null,
      "outputs": []
    },
    {
      "cell_type": "code",
      "source": [
        "import matplotlib.pyplot as plt\n",
        "\n",
        "# Visualize some results\n",
        "def display_images(noisy, denoised, original, num_images=10):\n",
        "    plt.figure(figsize=(20, 4))\n",
        "    for i in range(num_images):\n",
        "        # Display noisy images\n",
        "        ax = plt.subplot(3, num_images, i + 1)\n",
        "        plt.imshow(noisy[i].reshape(28, 28), cmap='gray')\n",
        "        plt.axis('off')\n",
        "\n",
        "        # Display denoised images\n",
        "        ax = plt.subplot(3, num_images, i + num_images + 1)\n",
        "        plt.imshow(denoised[i].reshape(28, 28), cmap='gray')\n",
        "        plt.axis('off')\n",
        "\n",
        "        # Display original images\n",
        "        ax = plt.subplot(3, num_images, i + 2*num_images + 1)\n",
        "        plt.imshow(original[i].reshape(28, 28), cmap='gray')\n",
        "        plt.axis('off')\n",
        "    plt.show()\n",
        "\n",
        "# Get denoised images\n",
        "denoised_images = autoencoder.predict(salt_and_pepper_noisy_test)\n",
        "\n",
        "# Display comparison\n",
        "display_images(salt_and_pepper_noisy_test, denoised_images, x_test)"
      ],
      "metadata": {
        "id": "ziNqpieA8fCq"
      },
      "execution_count": null,
      "outputs": []
    },
    {
      "cell_type": "code",
      "source": [
        "autoencoder.fit(patchwise_noisy_train, x_train, epochs=10, batch_size=128, validation_data=(patchwise_noisy_test, x_test))"
      ],
      "metadata": {
        "id": "fl46W8ST8ABv"
      },
      "execution_count": null,
      "outputs": []
    },
    {
      "cell_type": "code",
      "source": [
        "import matplotlib.pyplot as plt\n",
        "\n",
        "# Visualize some results\n",
        "def display_images(noisy, denoised, original, num_images=10):\n",
        "    plt.figure(figsize=(20, 4))\n",
        "    for i in range(num_images):\n",
        "        # Display noisy images\n",
        "        ax = plt.subplot(3, num_images, i + 1)\n",
        "        plt.imshow(noisy[i].reshape(28, 28), cmap='gray')\n",
        "        plt.axis('off')\n",
        "\n",
        "        # Display denoised images\n",
        "        ax = plt.subplot(3, num_images, i + num_images + 1)\n",
        "        plt.imshow(denoised[i].reshape(28, 28), cmap='gray')\n",
        "        plt.axis('off')\n",
        "\n",
        "        # Display original images\n",
        "        ax = plt.subplot(3, num_images, i + 2*num_images + 1)\n",
        "        plt.imshow(original[i].reshape(28, 28), cmap='gray')\n",
        "        plt.axis('off')\n",
        "    plt.show()\n",
        "\n",
        "# Get denoised images\n",
        "denoised_images = autoencoder.predict(patchwise_noisy_test)\n",
        "\n",
        "# Display comparison\n",
        "display_images(patchwise_noisy_test, denoised_images, x_test)"
      ],
      "metadata": {
        "id": "F7NeeKEs8fq-"
      },
      "execution_count": null,
      "outputs": []
    }
  ],
  "metadata": {
    "colab": {
      "provenance": []
    },
    "kernelspec": {
      "display_name": "Python 3",
      "name": "python3"
    },
    "language_info": {
      "name": "python"
    }
  },
  "nbformat": 4,
  "nbformat_minor": 0
}